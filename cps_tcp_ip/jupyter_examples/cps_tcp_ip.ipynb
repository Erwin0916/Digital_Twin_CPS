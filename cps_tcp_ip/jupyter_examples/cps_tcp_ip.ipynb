{
 "cells": [
  {
   "cell_type": "markdown",
   "id": "b244af5b",
   "metadata": {},
   "source": [
    "## 1. Initialization"
   ]
  },
  {
   "cell_type": "code",
   "execution_count": 1,
   "id": "3f4c0a9c",
   "metadata": {},
   "outputs": [
    {
     "ename": "ModuleNotFoundError",
     "evalue": "No module named 'keyboard'",
     "output_type": "error",
     "traceback": [
      "\u001b[1;31m---------------------------------------------------------------------------\u001b[0m",
      "\u001b[1;31mModuleNotFoundError\u001b[0m                       Traceback (most recent call last)",
      "\u001b[1;32m~\\AppData\\Local\\Temp\\ipykernel_5604\\264516907.py\u001b[0m in \u001b[0;36m<module>\u001b[1;34m\u001b[0m\n\u001b[0;32m     21\u001b[0m \u001b[1;32mimport\u001b[0m \u001b[0mnumpy\u001b[0m \u001b[1;32mas\u001b[0m \u001b[0mnp\u001b[0m\u001b[1;33m\u001b[0m\u001b[1;33m\u001b[0m\u001b[0m\n\u001b[0;32m     22\u001b[0m \u001b[1;32mimport\u001b[0m \u001b[0mmath\u001b[0m\u001b[1;33m\u001b[0m\u001b[1;33m\u001b[0m\u001b[0m\n\u001b[1;32m---> 23\u001b[1;33m \u001b[1;32mimport\u001b[0m \u001b[0mkeyboard\u001b[0m\u001b[1;33m\u001b[0m\u001b[1;33m\u001b[0m\u001b[0m\n\u001b[0m\u001b[0;32m     24\u001b[0m \u001b[1;32mimport\u001b[0m \u001b[0mthreading\u001b[0m\u001b[1;33m\u001b[0m\u001b[1;33m\u001b[0m\u001b[0m\n\u001b[0;32m     25\u001b[0m \u001b[1;33m\u001b[0m\u001b[0m\n",
      "\u001b[1;31mModuleNotFoundError\u001b[0m: No module named 'keyboard'"
     ]
    }
   ],
   "source": [
    "import sys\n",
    "import os\n",
    "\n",
    "os.chdir(\"../\")\n",
    "path1 = os.getcwd()\n",
    "\n",
    "os.chdir(\"coppeliasim_utils\")\n",
    "path2 = os.getcwd()\n",
    "\n",
    "\n",
    "sys.path.append(path1)\n",
    "sys.path.append(path2)\n",
    "\n",
    "from indy_utils import indydcp_client as client\n",
    "from coppeliasim_utils import sim\n",
    "\n",
    "from time import sleep\n",
    "import time\n",
    "import json\n",
    "import threading\n",
    "import numpy as np\n",
    "import math\n",
    "import keyboard\n",
    "import threading\n",
    "\n",
    "robot_ip = \"192.168.1.6\"  # Robot (Indy) IP\n",
    "robot_name = \"NRMK-Indy7\"  # Robot name (Indy7)\n",
    "\n",
    "# Create class object (real robot)\n",
    "indy_actual = client.IndyDCPClient(robot_ip, robot_name)\n",
    "\n",
    "# Crate class object (simulation robot)\n",
    "indy_virtual = sim.simxStart('127.0.0.1', 19997, True, True, 5000, 5)\n",
    "\n",
    "# Actual robot (Created: True, Not created: False)\n",
    "# Virtual robot (Created: True, Not created: False)\n",
    "print(\"real robot: {0}\\nsimulation robot: {1}\".format(bool(indy_actual), bool(not indy_virtual)))"
   ]
  },
  {
   "cell_type": "markdown",
   "id": "b7ed31cf",
   "metadata": {},
   "source": [
    "## 2. Communication reset"
   ]
  },
  {
   "cell_type": "code",
   "execution_count": 11,
   "id": "f1f953e3",
   "metadata": {},
   "outputs": [
    {
     "name": "stdout",
     "output_type": "stream",
     "text": [
      "Connect: Server IP (192.168.1.6)\n"
     ]
    }
   ],
   "source": [
    "# Reset TCP-IP communication (real robot)\n",
    "# For real robot\n",
    "indy_actual.connect()\n",
    "indy_actual.disconnect()\n",
    "\n",
    "# For simulation robot\n",
    "sim.simxFinish(indy_virtual)"
   ]
  },
  {
   "cell_type": "markdown",
   "id": "083e2d03",
   "metadata": {},
   "source": [
    "## 3. Position data acquisition"
   ]
  },
  {
   "cell_type": "code",
   "execution_count": 8,
   "id": "19449c0f",
   "metadata": {},
   "outputs": [
    {
     "name": "stdout",
     "output_type": "stream",
     "text": [
      "Connect: Server IP (192.168.1.6)\n",
      "\n",
      "Joint Position (real): [ -0. -15. -90.  -0. -75.   0.]\n",
      "Joint Position (simulation): [  0. -15. -90.   0. -75.   0.]\n",
      "\n",
      "Task Position (real): [  0.45  -0.19   0.42   0.   180.     0.  ]\n",
      "Task Position (simulation): [   0.45   -0.19    0.42 -180.     -0.   -180.  ]\n"
     ]
    }
   ],
   "source": [
    "# For real robot\n",
    "indy_actual.connect()\n",
    "j_pos_act = indy_actual.get_joint_pos()\n",
    "t_pos_act = indy_actual.get_task_pos()\n",
    "\n",
    "# For simulation robot\n",
    "handles = []\n",
    "j_pos_vir = []\n",
    "t_pos_vir = []\n",
    "\n",
    "for i in range(6):\n",
    "    object_name = 'joint' + str(i)\n",
    "    result, handle=sim.simxGetObjectHandle(indy_virtual, object_name, sim.simx_opmode_blocking)\n",
    "    if result != sim.simx_return_ok:\n",
    "        raise Exception('could not get object handle for first joint')                \n",
    "    else:\n",
    "        handles.append(handle)\n",
    "        result, jnt_angle = sim.simxGetJointPosition(indy_virtual, handle, sim.simx_opmode_oneshot)\n",
    "        j_pos_vir.append(jnt_angle/math.pi*180)\n",
    "        \n",
    "object_name = 'tool_coordinate'\n",
    "result, handle=sim.simxGetObjectHandle(indy_virtual, object_name, sim.simx_opmode_blocking)\n",
    "\n",
    "result, obj_pos = sim.simxGetObjectPosition(indy_virtual, handle, -1, sim.simx_opmode_oneshot)\n",
    "result, obj_rot = sim.simxGetObjectOrientation(indy_virtual, handle, -1, sim.simx_opmode_oneshot)\n",
    "\n",
    "print()\n",
    "\n",
    "for i in range(3):\n",
    "    t_pos_vir.append(obj_pos[i])\n",
    "\n",
    "for i in range(3):\n",
    "    t_pos_vir.append(obj_rot[i]/np.pi*180)\n",
    "        \n",
    "print(\"Joint Position (real):\", np.round(j_pos_act, 2))\n",
    "print(\"Joint Position (simulation):\", np.round(j_pos_vir, 2))\n",
    "\n",
    "print()\n",
    "print(\"Task Position (real):\", np.round(t_pos_act,2))\n",
    "print(\"Task Position (simulation):\", np.round(t_pos_vir,2))\n"
   ]
  },
  {
   "cell_type": "markdown",
   "id": "d113a5d4",
   "metadata": {},
   "source": [
    "## 4. Set position"
   ]
  },
  {
   "cell_type": "code",
   "execution_count": 124,
   "id": "1aedd746",
   "metadata": {},
   "outputs": [
    {
     "name": "stdout",
     "output_type": "stream",
     "text": [
      "Connect: Server IP (192.168.1.6)\n"
     ]
    }
   ],
   "source": [
    "### For actual robot\n",
    "indy_actual.connect()\n",
    "\n",
    "# Zero position\n",
    "#j_pos_act = [0, 0, 0, 0, 0, 0]\n",
    "\n",
    "# Home position\n",
    "j_pos_act = [0, -15, -90, 0, -75, 0]\n",
    "indy_actual.joint_move_to(j_pos_act)  # Move 6th joint\n",
    "\n",
    "indy_actual.disconnect()\n",
    "\n",
    "### For virtual robot\n",
    "handles = []\n",
    "#Zero position\n",
    "#j_pos_vir = [0, 0, 0, 0, 0, 0]\n",
    "\n",
    "# Home position\n",
    "j_pos_vir = [0, -15, -90, 0, -75, 0]\n",
    "\n",
    "for i in range(6):\n",
    "    object_name = 'joint' + str(i)\n",
    "    #print(object_name)\n",
    "    result, handle=sim.simxGetObjectHandle(indy_virtual, object_name, sim.simx_opmode_blocking)\n",
    "    if result != sim.simx_return_ok:\n",
    "        raise Exception('could not get object handle for first joint')                \n",
    "    else:\n",
    "        handles.append(handle)\n",
    "        sim.simxSetJointTargetPosition(indy_virtual, handle, j_pos_vir[i]*math.pi/180, sim.simx_opmode_oneshot)"
   ]
  },
  {
   "cell_type": "markdown",
   "id": "1bc672b2",
   "metadata": {},
   "source": [
    "## 5. Synchronization"
   ]
  },
  {
   "cell_type": "markdown",
   "id": "fef39614",
   "metadata": {},
   "source": [
    "### 5-1. Synchronization (w non threaded)"
   ]
  },
  {
   "cell_type": "code",
   "execution_count": 2,
   "id": "7d2b7f91",
   "metadata": {
    "scrolled": true
   },
   "outputs": [
    {
     "name": "stdout",
     "output_type": "stream",
     "text": [
      "Connect: Server IP (192.168.1.6)\n",
      "[19, 21, 23, 25, 27, 29]\n",
      "Escape the program\n"
     ]
    }
   ],
   "source": [
    "indy_actual.connect()\n",
    "\n",
    "handles = []\n",
    "\n",
    "for i in range(6):\n",
    "        object_name = 'joint' + str(i)    \n",
    "        result, handle=sim.simxGetObjectHandle(indy_virtual, object_name, sim.simx_opmode_blocking)\n",
    "        handles.append(handle)\n",
    "        \n",
    "print(handles)\n",
    "\n",
    "isCtrOn = True\n",
    "\n",
    "while isCtrOn:\n",
    "    j_pos = indy_actual.get_joint_pos()\n",
    "    time.sleep(0.002)\n",
    "\n",
    "    for i in range(6):\n",
    "        sim.simxSetJointTargetPosition(indy_virtual, handles[i] , float(j_pos[i])*math.pi/180 ,sim.simx_opmode_oneshot)\n",
    "    \n",
    "    if keyboard.is_pressed(\"q\"):\n",
    "        isCtrOn = False\n",
    "        print(\"Escape the program\")\n",
    "\n",
    "indy_actual.disconnect()"
   ]
  },
  {
   "cell_type": "markdown",
   "id": "38ebe83b",
   "metadata": {},
   "source": [
    "### 5-2. Synchronization (w threaded)"
   ]
  },
  {
   "cell_type": "code",
   "execution_count": 3,
   "id": "622fe967",
   "metadata": {},
   "outputs": [
    {
     "name": "stdout",
     "output_type": "stream",
     "text": [
      "Main Thread\n",
      "Connect: Server IP (192.168.1.6)\n",
      "[19, 21, 23, 25, 27, 29]\n"
     ]
    }
   ],
   "source": [
    "def cps_program():\n",
    "    indy_actual.connect()\n",
    "\n",
    "    handles = []\n",
    "\n",
    "    for i in range(6):\n",
    "            object_name = 'joint' + str(i)    \n",
    "            #print(object_name)\n",
    "            result, handle=sim.simxGetObjectHandle(indy_virtual, object_name, sim.simx_opmode_blocking)\n",
    "            handles.append(handle)\n",
    "\n",
    "    print(handles)\n",
    "\n",
    "    isCtrOn = True\n",
    "\n",
    "    while isCtrOn:\n",
    "        j_pos = indy_actual.get_joint_pos()\n",
    "        time.sleep(0.002)\n",
    "\n",
    "        for i in range(6):\n",
    "            sim.simxSetJointTargetPosition(indy_virtual, handles[i] , float(j_pos[i])*math.pi/180 ,sim.simx_opmode_oneshot)\n",
    "\n",
    "        if keyboard.is_pressed(\"q\"):\n",
    "            isCtrOn = False\n",
    "            print(\"Escape the program\")\n",
    "\n",
    "    indy_actual.disconnect()\n",
    "\n",
    "t = threading.Thread(target=cps_program)\n",
    "t.start()\n",
    "print(\"Main Thread\")"
   ]
  },
  {
   "cell_type": "markdown",
   "id": "24845e74",
   "metadata": {},
   "source": [
    "### 5-3. Motion test"
   ]
  },
  {
   "cell_type": "code",
   "execution_count": 6,
   "id": "34f240d5",
   "metadata": {},
   "outputs": [
    {
     "name": "stdout",
     "output_type": "stream",
     "text": [
      "j_pos1 [-2.788240125940038e-15, -13.441191131129374, -75.51009058405377, -9.526175978467308e-15, -91.04871828482023, 2.02100007092053e-15]\n",
      "t_pos1 [0.45454260949727554, -0.18650000000000008, 0.5160799560441868, 2.3683643230183005e-14, -179.99999999999665, -5.106281148755881e-15]\n",
      "Escape the program\n"
     ]
    }
   ],
   "source": [
    "j_pos1 = indy_actual.get_joint_pos()\n",
    "t_pos1 = indy_actual.get_task_pos()\n",
    "print(\"j_pos1\", j_pos1)\n",
    "print(\"t_pos1\", t_pos1)\n",
    "\n",
    "t_pos1[2] += 0.1\n",
    "indy_actual.task_move_to(t_pos1)  # Move along z-axis"
   ]
  },
  {
   "cell_type": "code",
   "execution_count": 11,
   "id": "02bf9b72",
   "metadata": {},
   "outputs": [],
   "source": [
    "indy_actual.go_home()"
   ]
  },
  {
   "cell_type": "code",
   "execution_count": 7,
   "id": "db6afc3b",
   "metadata": {},
   "outputs": [],
   "source": [
    "indy_actual.stop_motion()"
   ]
  },
  {
   "cell_type": "code",
   "execution_count": 10,
   "id": "47b62157",
   "metadata": {},
   "outputs": [],
   "source": [
    "indy_actual.go_zero()"
   ]
  }
 ],
 "metadata": {
  "kernelspec": {
   "display_name": "Python 3 (ipykernel)",
   "language": "python",
   "name": "python3"
  },
  "language_info": {
   "codemirror_mode": {
    "name": "ipython",
    "version": 3
   },
   "file_extension": ".py",
   "mimetype": "text/x-python",
   "name": "python",
   "nbconvert_exporter": "python",
   "pygments_lexer": "ipython3",
   "version": "3.9.13"
  }
 },
 "nbformat": 4,
 "nbformat_minor": 5
}
