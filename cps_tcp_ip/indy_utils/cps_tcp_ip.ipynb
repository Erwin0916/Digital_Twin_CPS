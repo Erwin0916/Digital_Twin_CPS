{
 "cells": [
  {
   "cell_type": "markdown",
   "id": "b244af5b",
   "metadata": {},
   "source": [
    "## 1. Initialization"
   ]
  },
  {
   "cell_type": "code",
   "execution_count": 4,
   "id": "3f4c0a9c",
   "metadata": {},
   "outputs": [
    {
     "name": "stdout",
     "output_type": "stream",
     "text": [
      "real robot: True\n",
      "simulation robot: True\n"
     ]
    }
   ],
   "source": [
    "import sys\n",
    "import os\n",
    "import math \n",
    "\n",
    "os.chdir(\"../\")\n",
    "path1 = os.getcwd()\n",
    "\n",
    "os.chdir(\"coppeliasim_utils\")\n",
    "path2 = os.getcwd()\n",
    "\n",
    "\n",
    "sys.path.append(path1)\n",
    "sys.path.append(path2)\n",
    "\n",
    "from indy_utils import indydcp_client as client\n",
    "from coppeliasim_utils import sim\n",
    "\n",
    "from time import sleep\n",
    "import time\n",
    "import json\n",
    "import threading\n",
    "import numpy as np\n",
    "import math\n",
    "import keyboard\n",
    "import threading\n",
    "\n",
    "robot_ip = \"192.168.3.19\" \n",
    "#robot_ip = \"192.168.120.163\"  # Robot (Indy) IP\n",
    "robot_name = \"NRMK-Indy7\"  # Robot name (Indy7)\n",
    "\n",
    "# Create class object (real robot)\n",
    "indy_actual = client.IndyDCPClient(robot_ip, robot_name)\n",
    "\n",
    "# Crate class object (simulation robot)\n",
    "indy_virtual = sim.simxStart('127.0.0.1', 19997, True, True, 5000, 5)\n",
    "\n",
    "# Actual robot (Created: True, Not created: False)\n",
    "# Virtual robot (Created: True, Not created: False)\n",
    "print(\"real robot: {0}\\nsimulation robot: {1}\".format(bool(indy_actual), bool(not indy_virtual)))"
   ]
  },
  {
   "cell_type": "markdown",
   "id": "b7ed31cf",
   "metadata": {},
   "source": [
    "## 2. Communication reset"
   ]
  },
  {
   "cell_type": "code",
   "execution_count": 5,
   "id": "f1f953e3",
   "metadata": {},
   "outputs": [
    {
     "name": "stdout",
     "output_type": "stream",
     "text": [
      "Connect: Server IP (192.168.0.2)\n"
     ]
    }
   ],
   "source": [
    "# Reset TCP-IP communication (real robot)\n",
    "# For real robot\n",
    "indy_actual.connect()\n",
    "indy_actual.disconnect()\n",
    "\n",
    "\n",
    "# For simulation robot\n",
    "sim.simxFinish(indy_virtual)"
   ]
  },
  {
   "cell_type": "markdown",
   "id": "083e2d03",
   "metadata": {},
   "source": [
    "## 3. Position data acquisition"
   ]
  },
  {
   "cell_type": "code",
   "execution_count": 6,
   "id": "19449c0f",
   "metadata": {},
   "outputs": [
    {
     "name": "stdout",
     "output_type": "stream",
     "text": [
      "Connect: Server IP (192.168.3.19)\n"
     ]
    },
    {
     "ename": "Exception",
     "evalue": "could not get object handle for first joint",
     "output_type": "error",
     "traceback": [
      "\u001b[1;31m---------------------------------------------------------------------------\u001b[0m",
      "\u001b[1;31mException\u001b[0m                                 Traceback (most recent call last)",
      "Cell \u001b[1;32mIn[6], line 18\u001b[0m\n\u001b[0;32m     16\u001b[0m result, handle\u001b[38;5;241m=\u001b[39msim\u001b[38;5;241m.\u001b[39msimxGetObjectHandle(indy_virtual, object_name, sim\u001b[38;5;241m.\u001b[39msimx_opmode_blocking)\n\u001b[0;32m     17\u001b[0m \u001b[38;5;28;01mif\u001b[39;00m result \u001b[38;5;241m!=\u001b[39m sim\u001b[38;5;241m.\u001b[39msimx_return_ok:\n\u001b[1;32m---> 18\u001b[0m     \u001b[38;5;28;01mraise\u001b[39;00m \u001b[38;5;167;01mException\u001b[39;00m(\u001b[38;5;124m'\u001b[39m\u001b[38;5;124mcould not get object handle for first joint\u001b[39m\u001b[38;5;124m'\u001b[39m)                \n\u001b[0;32m     19\u001b[0m \u001b[38;5;28;01melse\u001b[39;00m:\n\u001b[0;32m     20\u001b[0m     handles\u001b[38;5;241m.\u001b[39mappend(handle)\n",
      "\u001b[1;31mException\u001b[0m: could not get object handle for first joint"
     ]
    }
   ],
   "source": [
    "# For real robot\n",
    "indy_actual.connect()\n",
    "j_pos_act = indy_actual.get_joint_pos()\n",
    "t_pos_act = indy_actual.get_task_pos()\n",
    "\n",
    "# For simulation robot\n",
    "handles = []\n",
    "handles2 = []\n",
    "j_pos_vir = []\n",
    "t_pos_vir = []\n",
    "d_pos_vir = []\n",
    "\n",
    "\n",
    "for i in range(6):\n",
    "    object_name = 'joint' + str(i)\n",
    "    result, handle=sim.simxGetObjectHandle(indy_virtual, object_name, sim.simx_opmode_blocking)\n",
    "    if result != sim.simx_return_ok:\n",
    "        raise Exception('could not get object handle for first joint')                \n",
    "    else:\n",
    "        handles.append(handle)\n",
    "        result, jnt_angle = sim.simxGetJointPosition(indy_virtual, handle, sim.simx_opmode_oneshot)\n",
    "        j_pos_vir.append(jnt_angle/math.pi*180)\n",
    "        \n",
    "object_name = 'tool_coordinate'\n",
    "result, handle=sim.simxGetObjectHandle(indy_virtual, object_name, sim.simx_opmode_blocking)\n",
    "\n",
    "result, obj_pos = sim.simxGetObjectPosition(indy_virtual, handle, -1, sim.simx_opmode_oneshot)\n",
    "result, obj_rot = sim.simxGetObjectOrientation(indy_virtual, handle, -1, sim.simx_opmode_oneshot)\n",
    "\n",
    "object_name = 'doorhand'\n",
    "result2, handle2=sim.simxGetObjectHandle(indy_virtual, object_name, sim.simx_opmode_blocking)\n",
    "\n",
    "result2, obj_pos2 = sim.simxGetObjectPosition(indy_virtual, handle2, -1, sim.simx_opmode_oneshot)\n",
    "result2, obj_rot2 = sim.simxGetObjectOrientation(indy_virtual, handle2, -1, sim.simx_opmode_oneshot)\n",
    "\n",
    "#그리퍼\n",
    "handles_grip = []\n",
    "#hFeederJoint ={-1,-1,-1}\n",
    "       \n",
    "for i in range(2):\n",
    "    object_name = 'gripper_joint' + str(i)\n",
    "    result3, handle3=sim.simxGetObjectHandle(indy_virtual, object_name, sim.simx_opmode_blocking)\n",
    "    if result3 != sim.simx_return_ok:\n",
    "        raise Exception('could not get object handle for first joint')                \n",
    "    else:\n",
    "        handles.append(handle)\n",
    "        result3, jnt_angle3 = sim.simxGetJointPosition(indy_virtual, handle3, sim.simx_opmode_oneshot)\n",
    "        j_pos_vir3.append(jnt_angle3/math.pi*180)        \n",
    "    \n",
    "########################    \n",
    "print()\n",
    "\n",
    "for i in range(3):\n",
    "    t_pos_vir.append(obj_pos[i])\n",
    "\n",
    "for i in range(3):\n",
    "    t_pos_vir.append(obj_rot[i]/np.pi*180)\n",
    "\n",
    "print(\"Joint Position (real):\", np.round(j_pos_act, 2))\n",
    "print(\"Joint Position (simulation):\", np.round(j_pos_vir, 2))\n",
    "\n",
    "print()\n",
    "print(\"Task Position (real):\", np.round(t_pos_act,2))\n",
    "print(\"Task Position (simulation):\", np.round(t_pos_vir,2))\n",
    "\n",
    "t_pos_vir.clear()\n",
    "\n",
    "for i in range(3):\n",
    "    t_pos_vir.append(obj_pos2[i])\n",
    "\n",
    "for i in range(3):\n",
    "    t_pos_vir.append(obj_rot2[i]/np.pi*180)\n",
    "\n",
    "print()\n",
    "print(\"Door_handle Position (sim):\", np.round(t_pos_vir,2))\n",
    "\n",
    "print(\"Gripper Joint Position (simulation):\", np.round(j_pos_vir3, 2))"
   ]
  },
  {
   "cell_type": "markdown",
   "id": "d113a5d4",
   "metadata": {},
   "source": [
    "## 4. Set position"
   ]
  },
  {
   "cell_type": "code",
   "execution_count": 6,
   "id": "1aedd746",
   "metadata": {},
   "outputs": [
    {
     "name": "stdout",
     "output_type": "stream",
     "text": [
      "Connect: Server IP (192.168.3.19)\n"
     ]
    }
   ],
   "source": [
    "### For actual robot\n",
    "indy_actual.connect()\n",
    "\n",
    "# Zero position\n",
    "#j_pos_act = [0, 0, 0, 0, 0, 0]\n",
    "\n",
    "# Home position\n",
    "j_pos_act = [0, -15, -90, 0, -75, 0]\n",
    "indy_actual.joint_move_to(j_pos_act)  # Move 6th joint\n",
    "\n",
    "indy_actual.disconnect()\n",
    "\n",
    "### For virtual robot\n",
    "handles = []\n",
    "#Zero position\n",
    "#j_pos_vir = [0, 0, 0, 0, 0, 0]\n",
    "\n",
    "# Home position\n",
    "j_pos_vir = [0, -15, -90, 0, -75, 0]\n",
    "\n",
    "for i in range(6):\n",
    "    object_name = 'joint' + str(i)\n",
    "    #print(object_name)\n",
    "    result, handle=sim.simxGetObjectHandle(indy_virtual, object_name, sim.simx_opmode_blocking)\n",
    "    if result != sim.simx_return_ok:\n",
    "        raise Exception('could not get object handle for first joint')                \n",
    "    else:\n",
    "        handles.append(handle)\n",
    "        sim.simxSetJointTargetPosition(indy_virtual, handle, j_pos_vir[i]*math.pi/180, sim.simx_opmode_oneshot)"
   ]
  },
  {
   "cell_type": "markdown",
   "id": "1bc672b2",
   "metadata": {},
   "source": [
    "## 5. Synchronization"
   ]
  },
  {
   "cell_type": "markdown",
   "id": "fef39614",
   "metadata": {},
   "source": [
    "### 5-1. Synchronization (w non threaded)"
   ]
  },
  {
   "cell_type": "markdown",
   "id": "38ebe83b",
   "metadata": {},
   "source": [
    "### 5-2. Synchronization (w threaded)"
   ]
  },
  {
   "cell_type": "code",
   "execution_count": null,
   "id": "7d2b7f91",
   "metadata": {
    "scrolled": true
   },
   "outputs": [],
   "source": []
  },
  {
   "cell_type": "code",
   "execution_count": 7,
   "id": "622fe967",
   "metadata": {},
   "outputs": [
    {
     "name": "stdout",
     "output_type": "stream",
     "text": [
      "Main Thread\n",
      "Connect: Server IP (192.168.3.19)\n",
      "[19, 21, 23, 25, 27, 29]\n"
     ]
    }
   ],
   "source": [
    "def cps_program():\n",
    "    indy_actual.connect()\n",
    "\n",
    "    handles = []\n",
    "\n",
    "    for i in range(6):\n",
    "            object_name = 'joint' + str(i)    \n",
    "            #print(object_name)\n",
    "            result, handle=sim.simxGetObjectHandle(indy_virtual, object_name, sim.simx_opmode_blocking)\n",
    "            handles.append(handle)\n",
    "\n",
    "    print(handles)\n",
    "\n",
    "    isCtrOn = True\n",
    "\n",
    "    while isCtrOn:\n",
    "        j_pos = indy_actual.get_joint_pos()\n",
    "        time.sleep(0.002)\n",
    "\n",
    "        for i in range(6):\n",
    "            sim.simxSetJointTargetPosition(indy_virtual, handles[i] , float(j_pos[i])*math.pi/180 ,sim.simx_opmode_oneshot)\n",
    "\n",
    "        if keyboard.is_pressed(\"q\"):\n",
    "            isCtrOn = False\n",
    "            print(\"Escape the program\")\n",
    "\n",
    "    indy_actual.disconnect()\n",
    "\n",
    "t = threading.Thread(target=cps_program)\n",
    "t.start()\n",
    "print(\"Main Thread\")"
   ]
  },
  {
   "cell_type": "markdown",
   "id": "24845e74",
   "metadata": {},
   "source": [
    "### 5-3. Motion test"
   ]
  },
  {
   "cell_type": "code",
   "execution_count": 12,
   "id": "34f240d5",
   "metadata": {},
   "outputs": [
    {
     "name": "stdout",
     "output_type": "stream",
     "text": [
      "j_pos1 [89.94999999999796, 0.049999999999999704, -44.130000000001026, 9.429999999999744, -67.13999999999795, -6.999999999999874]\n",
      "t_pos1 [0.15001957657933526, 0.4749988114681156, 0.900021320126784, 0.005155627709476102, 110.68852805144567, 99.24254271009784]\n",
      "a :  0.017453292519943295\n"
     ]
    },
    {
     "ename": "AttributeError",
     "evalue": "module 'coppeliasim_utils.sim' has no attribute 'setJointPosition'",
     "output_type": "error",
     "traceback": [
      "\u001b[1;31m---------------------------------------------------------------------------\u001b[0m",
      "\u001b[1;31mAttributeError\u001b[0m                            Traceback (most recent call last)",
      "Cell \u001b[1;32mIn[12], line 38\u001b[0m\n\u001b[0;32m     33\u001b[0m         sim\u001b[38;5;241m.\u001b[39msetJointPosition(hFeederJoint[\u001b[38;5;241m2\u001b[39m],p\u001b[38;5;241m*\u001b[39m\u001b[38;5;241m2\u001b[39m)\n\u001b[0;32m     34\u001b[0m         sim\u001b[38;5;241m.\u001b[39mswitchThread()\n\u001b[1;32m---> 38\u001b[0m \u001b[43mfeeder_gripper_on\u001b[49m\u001b[43m(\u001b[49m\u001b[43m)\u001b[49m\n",
      "Cell \u001b[1;32mIn[12], line 32\u001b[0m, in \u001b[0;36mfeeder_gripper_on\u001b[1;34m()\u001b[0m\n\u001b[0;32m     30\u001b[0m \u001b[38;5;28;01mfor\u001b[39;00m i \u001b[38;5;129;01min\u001b[39;00m \u001b[38;5;28mrange\u001b[39m(factor):\n\u001b[0;32m     31\u001b[0m     p\u001b[38;5;241m=\u001b[39mp\u001b[38;5;241m-\u001b[39m\u001b[38;5;241m0.001\u001b[39m\n\u001b[1;32m---> 32\u001b[0m     \u001b[43msim\u001b[49m\u001b[38;5;241;43m.\u001b[39;49m\u001b[43msetJointPosition\u001b[49m(hFeederJoint[\u001b[38;5;241m1\u001b[39m],p)\n\u001b[0;32m     33\u001b[0m     sim\u001b[38;5;241m.\u001b[39msetJointPosition(hFeederJoint[\u001b[38;5;241m2\u001b[39m],p\u001b[38;5;241m*\u001b[39m\u001b[38;5;241m2\u001b[39m)\n\u001b[0;32m     34\u001b[0m     sim\u001b[38;5;241m.\u001b[39mswitchThread()\n",
      "\u001b[1;31mAttributeError\u001b[0m: module 'coppeliasim_utils.sim' has no attribute 'setJointPosition'"
     ]
    },
    {
     "name": "stdout",
     "output_type": "stream",
     "text": [
      "Escape the program\n"
     ]
    }
   ],
   "source": [
    "j_pos1 = indy_actual.get_joint_pos()\n",
    "t_pos1 = indy_actual.get_task_pos()\n",
    "print(\"j_pos1\", j_pos1)\n",
    "print(\"t_pos1\", t_pos1)\n",
    "\n",
    "#t_pos1[2] += 0.1\n",
    "\n",
    "#m미터\n",
    "\n",
    "a = math.pi/180\n",
    "print(\"a : \", a)\n",
    "pos1 = [ -0, -15, -90, 0, 4.12, 0]\n",
    "pos2 = [ -0, -34.54, -73.35, 0, 4.12, 0]\n",
    "pos3 = [t_pos_vir[0], t_pos_vir[1], t_pos_vir[2], t_pos_vir[3], t_pos_vir[4], t_pos_vir[5]]\n",
    "pos3_j = [89.95, 0.05, -44.13, 9.43, -67.14,-7] #문을 향해 가는 거 조인트\n",
    "#indy_actual.task_move_to(t_pos1)  # Move along z-axis\n",
    "#indy_actual.joint_move_to(pos1) \n",
    "#sleep(4)\n",
    "#indy_actual.joint_move_to(pos3) \n",
    "\n",
    "\n",
    "#indy_actual.joint_move_to(pos3_j) \n",
    "#indy_actual.get_inv_kin(pos3,pos1)\n",
    "\n",
    "#sleep(4)\n",
    "\n",
    "def feeder_gripper_on():\n",
    "    factor = 20\n",
    "    p = 0.0\n",
    "    for i in range(factor):\n",
    "        p=p-0.001\n",
    "        sim.setJointPosition(hFeederJoint[1],p)\n",
    "        sim.setJointPosition(hFeederJoint[2],p*2)\n",
    "        sim.switchThread()\n",
    "    \n",
    "\n",
    "\n",
    "feeder_gripper_on()"
   ]
  },
  {
   "cell_type": "code",
   "execution_count": 9,
   "id": "02bf9b72",
   "metadata": {},
   "outputs": [],
   "source": [
    "indy_actual.go_home()"
   ]
  },
  {
   "cell_type": "code",
   "execution_count": null,
   "id": "db6afc3b",
   "metadata": {},
   "outputs": [],
   "source": [
    "indy_actual.stop_motion()"
   ]
  },
  {
   "cell_type": "code",
   "execution_count": 21,
   "id": "47b62157",
   "metadata": {},
   "outputs": [],
   "source": [
    "indy_actual.go_zero()"
   ]
  },
  {
   "cell_type": "code",
   "execution_count": null,
   "id": "33ea7ab9",
   "metadata": {},
   "outputs": [],
   "source": [
    "#gripper\n",
    "endtool_type = 0\n",
    "indy_actual.set_endtool_do(endtool_type, 1)\n",
    "sleep(1)\n",
    "indy_actual.get_endtool_do(endtool_type)\n",
    "\n"
   ]
  }
 ],
 "metadata": {
  "kernelspec": {
   "display_name": "Python 3 (ipykernel)",
   "language": "python",
   "name": "python3"
  },
  "language_info": {
   "codemirror_mode": {
    "name": "ipython",
    "version": 3
   },
   "file_extension": ".py",
   "mimetype": "text/x-python",
   "name": "python",
   "nbconvert_exporter": "python",
   "pygments_lexer": "ipython3",
   "version": "3.10.9"
  }
 },
 "nbformat": 4,
 "nbformat_minor": 5
}
